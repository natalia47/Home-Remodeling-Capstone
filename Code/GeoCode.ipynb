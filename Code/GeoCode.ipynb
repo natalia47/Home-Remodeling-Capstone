{
 "cells": [
  {
   "cell_type": "markdown",
   "metadata": {
    "id": "MVQHaftq1LlV"
   },
   "source": [
    "# GeoCode 2022 Boston Property Addresses\n",
    "\n",
    "\n",
    "### https://www.youtube.com/watch?v=nIdmmEfW3R0\n",
    "### https://geocoding.geo.census.gov/geocoder/geographies/addressbatch?form \n",
    "\n",
    "### Set up environment"
   ]
  },
  {
   "cell_type": "code",
   "execution_count": 1,
   "metadata": {
    "executionInfo": {
     "elapsed": 1010,
     "status": "ok",
     "timestamp": 1666269462091,
     "user": {
      "displayName": "Jeff Teixeira",
      "userId": "16242091717847900949"
     },
     "user_tz": 240
    },
    "id": "ZWYNehje05II"
   },
   "outputs": [],
   "source": [
    "import pandas as pd \n",
    "import urllib.request\n",
    "import requests\n",
    "import io\n",
    "import csv"
   ]
  },
  {
   "cell_type": "code",
   "execution_count": 2,
   "metadata": {
    "executionInfo": {
     "elapsed": 5,
     "status": "ok",
     "timestamp": 1666269465037,
     "user": {
      "displayName": "Jeff Teixeira",
      "userId": "16242091717847900949"
     },
     "user_tz": 240
    },
    "id": "H5Wns-_h0ZTI"
   },
   "outputs": [],
   "source": [
    "# set up notebook to display multiple output in one cell\n",
    "from IPython.core.interactiveshell import InteractiveShell\n",
    "InteractiveShell.ast_node_interactivity = \"all\"\n",
    " \n",
    "# Set option to format printing of Float columns\n",
    "pd.options.display.float_format = '{:.2f}'.format\n",
    "\n",
    "def warn(*args, **kwargs):\n",
    "    pass\n",
    "import warnings\n",
    "warnings.warn = warn"
   ]
  },
  {
   "cell_type": "code",
   "execution_count": 3,
   "metadata": {
    "colab": {
     "base_uri": "https://localhost:8080/"
    },
    "executionInfo": {
     "elapsed": 22976,
     "status": "ok",
     "timestamp": 1666269491781,
     "user": {
      "displayName": "Jeff Teixeira",
      "userId": "16242091717847900949"
     },
     "user_tz": 240
    },
    "id": "W9RJfA-R0WeL",
    "outputId": "fe1629eb-288c-4617-8ec3-ebd65d9c78ce"
   },
   "outputs": [
    {
     "name": "stdout",
     "output_type": "stream",
     "text": [
      "Mounted at /gdrive\n",
      "/gdrive/My Drive/MSDS 498 Capstone/4. Analytics/4a. Data/GeoCode\n"
     ]
    }
   ],
   "source": [
    "# Mount Google Drive\n",
    "\n",
    "from google.colab import drive\n",
    "#drive.mount('/content/gdrive')\n",
    "drive.mount('/gdrive') \n",
    "%cd /gdrive/My\\ Drive/MSDS\\ 498\\ Capstone/4.\\ Analytics/4a.\\ Data/GeoCode"
   ]
  },
  {
   "cell_type": "markdown",
   "metadata": {
    "id": "pngSqeBo1YFI"
   },
   "source": [
    "### Pull 2022 Boston Property Addresses"
   ]
  },
  {
   "cell_type": "code",
   "execution_count": null,
   "metadata": {
    "colab": {
     "base_uri": "https://localhost:8080/"
    },
    "executionInfo": {
     "elapsed": 11413,
     "status": "ok",
     "timestamp": 1666095912672,
     "user": {
      "displayName": "Jeff Teixeira",
      "userId": "16242091717847900949"
     },
     "user_tz": 240
    },
    "id": "EggbA_g01Ygf",
    "outputId": "844f8551-c335-4ace-f906-dad70ac60279"
   },
   "outputs": [
    {
     "name": "stdout",
     "output_type": "stream",
     "text": [
      "(178598, 65)\n"
     ]
    }
   ],
   "source": [
    "\n",
    "# url = 'https://data.boston.gov/api/3/action/datastore_search?resource_id=4b99718b-d064-471b-9b24-517ae5effecc'\n",
    "# import data sets for 2022 and 2021 and 2020 and 2019\n",
    "url2022= 'https://data.boston.gov/dataset/e02c44d2-3c64-459c-8fe2-e1ce5f38a035/resource/4b99718b-d064-471b-9b24-517ae5effecc/download/fy2022pa-4.csv'  \n",
    "\n",
    "\n",
    "pa2022alldf = pd.read_csv(url2022, low_memory=False)\n",
    "pa2022alldf[\"filename\"] = '2022'\n",
    "pa2022alldf[\"PID\"] = pa2022alldf[\"PID\"].astype(str)\n",
    " \n",
    "print(pa2022alldf.shape)\n"
   ]
  },
  {
   "cell_type": "code",
   "execution_count": null,
   "metadata": {
    "colab": {
     "base_uri": "https://localhost:8080/"
    },
    "executionInfo": {
     "elapsed": 15,
     "status": "ok",
     "timestamp": 1666095912673,
     "user": {
      "displayName": "Jeff Teixeira",
      "userId": "16242091717847900949"
     },
     "user_tz": 240
    },
    "id": "HsOFikdz2eUL",
    "outputId": "e96f5d3a-18ed-4923-f3f2-16de4c226560"
   },
   "outputs": [
    {
     "name": "stdout",
     "output_type": "stream",
     "text": [
      "(25640, 65)\n",
      "OWN_OCC\n",
      "Y    25640\n",
      "Name: OWN_OCC, dtype: int64\n",
      "LU\n",
      "R1    25640\n",
      "Name: LU, dtype: int64\n"
     ]
    }
   ],
   "source": [
    "# Limit to Owner Occupied, Single-Family  \n",
    "pa2022df = pa2022alldf[( pa2022alldf[\"LU\"]=='R1')  & (pa2022alldf[\"OWN_OCC\"]==\"Y\")]\n",
    "\n",
    "print(pa2022df.shape)\n",
    "print(pa2022df.groupby(by=\"OWN_OCC\")[\"OWN_OCC\"].count() )\n",
    "print(pa2022df.groupby(by=\"LU\")[\"LU\"].count() )"
   ]
  },
  {
   "cell_type": "code",
   "execution_count": null,
   "metadata": {
    "colab": {
     "base_uri": "https://localhost:8080/",
     "height": 241
    },
    "executionInfo": {
     "elapsed": 13,
     "status": "ok",
     "timestamp": 1666095912674,
     "user": {
      "displayName": "Jeff Teixeira",
      "userId": "16242091717847900949"
     },
     "user_tz": 240
    },
    "id": "UKom7Y1_3HPd",
    "outputId": "35651a6f-f288-4be9-fb25-0ee56b74430e"
   },
   "outputs": [
    {
     "data": {
      "text/plain": [
       "MA    25640\n",
       "Name: STATE, dtype: int64"
      ]
     },
     "execution_count": 7,
     "metadata": {},
     "output_type": "execute_result"
    },
    {
     "data": {
      "text/html": [
       "\n",
       "  <div id=\"df-03b6f3f9-546e-4a97-bc35-2a8e61819e66\">\n",
       "    <div class=\"colab-df-container\">\n",
       "      <div>\n",
       "<style scoped>\n",
       "    .dataframe tbody tr th:only-of-type {\n",
       "        vertical-align: middle;\n",
       "    }\n",
       "\n",
       "    .dataframe tbody tr th {\n",
       "        vertical-align: top;\n",
       "    }\n",
       "\n",
       "    .dataframe thead th {\n",
       "        text-align: right;\n",
       "    }\n",
       "</style>\n",
       "<table border=\"1\" class=\"dataframe\">\n",
       "  <thead>\n",
       "    <tr style=\"text-align: right;\">\n",
       "      <th></th>\n",
       "      <th>PID</th>\n",
       "      <th>ADDRESS</th>\n",
       "      <th>CITY</th>\n",
       "      <th>STATE</th>\n",
       "      <th>ZIPCODE</th>\n",
       "    </tr>\n",
       "  </thead>\n",
       "  <tbody>\n",
       "    <tr>\n",
       "      <th>27</th>\n",
       "      <td>100021000</td>\n",
       "      <td>243 HF  LEXINGTON ST</td>\n",
       "      <td>EAST BOSTON</td>\n",
       "      <td>MA</td>\n",
       "      <td>2128</td>\n",
       "    </tr>\n",
       "    <tr>\n",
       "      <th>36</th>\n",
       "      <td>100027000</td>\n",
       "      <td>33   PRESCOTT ST</td>\n",
       "      <td>EAST BOSTON</td>\n",
       "      <td>MA</td>\n",
       "      <td>2128</td>\n",
       "    </tr>\n",
       "    <tr>\n",
       "      <th>42</th>\n",
       "      <td>100033000</td>\n",
       "      <td>246   PRINCETON ST</td>\n",
       "      <td>EAST BOSTON</td>\n",
       "      <td>MA</td>\n",
       "      <td>2128</td>\n",
       "    </tr>\n",
       "    <tr>\n",
       "      <th>62</th>\n",
       "      <td>100052000</td>\n",
       "      <td>112   PUTNAM ST</td>\n",
       "      <td>EAST BOSTON</td>\n",
       "      <td>MA</td>\n",
       "      <td>2128</td>\n",
       "    </tr>\n",
       "    <tr>\n",
       "      <th>130</th>\n",
       "      <td>100118000</td>\n",
       "      <td>1  2 LAWSON PL</td>\n",
       "      <td>EAST BOSTON</td>\n",
       "      <td>MA</td>\n",
       "      <td>2128</td>\n",
       "    </tr>\n",
       "  </tbody>\n",
       "</table>\n",
       "</div>\n",
       "      <button class=\"colab-df-convert\" onclick=\"convertToInteractive('df-03b6f3f9-546e-4a97-bc35-2a8e61819e66')\"\n",
       "              title=\"Convert this dataframe to an interactive table.\"\n",
       "              style=\"display:none;\">\n",
       "        \n",
       "  <svg xmlns=\"http://www.w3.org/2000/svg\" height=\"24px\"viewBox=\"0 0 24 24\"\n",
       "       width=\"24px\">\n",
       "    <path d=\"M0 0h24v24H0V0z\" fill=\"none\"/>\n",
       "    <path d=\"M18.56 5.44l.94 2.06.94-2.06 2.06-.94-2.06-.94-.94-2.06-.94 2.06-2.06.94zm-11 1L8.5 8.5l.94-2.06 2.06-.94-2.06-.94L8.5 2.5l-.94 2.06-2.06.94zm10 10l.94 2.06.94-2.06 2.06-.94-2.06-.94-.94-2.06-.94 2.06-2.06.94z\"/><path d=\"M17.41 7.96l-1.37-1.37c-.4-.4-.92-.59-1.43-.59-.52 0-1.04.2-1.43.59L10.3 9.45l-7.72 7.72c-.78.78-.78 2.05 0 2.83L4 21.41c.39.39.9.59 1.41.59.51 0 1.02-.2 1.41-.59l7.78-7.78 2.81-2.81c.8-.78.8-2.07 0-2.86zM5.41 20L4 18.59l7.72-7.72 1.47 1.35L5.41 20z\"/>\n",
       "  </svg>\n",
       "      </button>\n",
       "      \n",
       "  <style>\n",
       "    .colab-df-container {\n",
       "      display:flex;\n",
       "      flex-wrap:wrap;\n",
       "      gap: 12px;\n",
       "    }\n",
       "\n",
       "    .colab-df-convert {\n",
       "      background-color: #E8F0FE;\n",
       "      border: none;\n",
       "      border-radius: 50%;\n",
       "      cursor: pointer;\n",
       "      display: none;\n",
       "      fill: #1967D2;\n",
       "      height: 32px;\n",
       "      padding: 0 0 0 0;\n",
       "      width: 32px;\n",
       "    }\n",
       "\n",
       "    .colab-df-convert:hover {\n",
       "      background-color: #E2EBFA;\n",
       "      box-shadow: 0px 1px 2px rgba(60, 64, 67, 0.3), 0px 1px 3px 1px rgba(60, 64, 67, 0.15);\n",
       "      fill: #174EA6;\n",
       "    }\n",
       "\n",
       "    [theme=dark] .colab-df-convert {\n",
       "      background-color: #3B4455;\n",
       "      fill: #D2E3FC;\n",
       "    }\n",
       "\n",
       "    [theme=dark] .colab-df-convert:hover {\n",
       "      background-color: #434B5C;\n",
       "      box-shadow: 0px 1px 3px 1px rgba(0, 0, 0, 0.15);\n",
       "      filter: drop-shadow(0px 1px 2px rgba(0, 0, 0, 0.3));\n",
       "      fill: #FFFFFF;\n",
       "    }\n",
       "  </style>\n",
       "\n",
       "      <script>\n",
       "        const buttonEl =\n",
       "          document.querySelector('#df-03b6f3f9-546e-4a97-bc35-2a8e61819e66 button.colab-df-convert');\n",
       "        buttonEl.style.display =\n",
       "          google.colab.kernel.accessAllowed ? 'block' : 'none';\n",
       "\n",
       "        async function convertToInteractive(key) {\n",
       "          const element = document.querySelector('#df-03b6f3f9-546e-4a97-bc35-2a8e61819e66');\n",
       "          const dataTable =\n",
       "            await google.colab.kernel.invokeFunction('convertToInteractive',\n",
       "                                                     [key], {});\n",
       "          if (!dataTable) return;\n",
       "\n",
       "          const docLinkHtml = 'Like what you see? Visit the ' +\n",
       "            '<a target=\"_blank\" href=https://colab.research.google.com/notebooks/data_table.ipynb>data table notebook</a>'\n",
       "            + ' to learn more about interactive tables.';\n",
       "          element.innerHTML = '';\n",
       "          dataTable['output_type'] = 'display_data';\n",
       "          await google.colab.output.renderOutput(dataTable, element);\n",
       "          const docLink = document.createElement('div');\n",
       "          docLink.innerHTML = docLinkHtml;\n",
       "          element.appendChild(docLink);\n",
       "        }\n",
       "      </script>\n",
       "    </div>\n",
       "  </div>\n",
       "  "
      ],
      "text/plain": [
       "           PID               ADDRESS         CITY STATE  ZIPCODE\n",
       "27   100021000  243 HF  LEXINGTON ST  EAST BOSTON    MA     2128\n",
       "36   100027000      33   PRESCOTT ST  EAST BOSTON    MA     2128\n",
       "42   100033000    246   PRINCETON ST  EAST BOSTON    MA     2128\n",
       "62   100052000       112   PUTNAM ST  EAST BOSTON    MA     2128\n",
       "130  100118000        1  2 LAWSON PL  EAST BOSTON    MA     2128"
      ]
     },
     "execution_count": 7,
     "metadata": {},
     "output_type": "execute_result"
    }
   ],
   "source": [
    "# Select the Required Address Columns\n",
    "pa_df = pa2022df[[\n",
    " 'PID'\n",
    ",'ST_NUM'\n",
    ",'ST_NAME' \n",
    ",'CITY'\n",
    ",'ZIPCODE' \n",
    "]]\n",
    "\n",
    "# Add STATE and set to MA\n",
    "pa_df['STATE'] = 'MA'\n",
    "pa_df['STATE'].value_counts()\n",
    "\n",
    "# Build the Street Address Column\n",
    "pa_df['ADDRESS'] =  pa_df['ST_NUM'] + \" \" + pa_df['ST_NAME' ] \n",
    "\n",
    "# Order the Columns Required by the API\n",
    "pa_df = pa_df[['PID','ADDRESS','CITY','STATE','ZIPCODE']]\n",
    "pa_df.head() "
   ]
  },
  {
   "cell_type": "markdown",
   "metadata": {
    "id": "jjmgaF0Z39BU"
   },
   "source": [
    "# Break the Property File into Chunks and Output to CSV"
   ]
  },
  {
   "cell_type": "code",
   "execution_count": null,
   "metadata": {
    "colab": {
     "base_uri": "https://localhost:8080/"
    },
    "executionInfo": {
     "elapsed": 6307,
     "status": "ok",
     "timestamp": 1666095919672,
     "user": {
      "displayName": "Jeff Teixeira",
      "userId": "16242091717847900949"
     },
     "user_tz": 240
    },
    "id": "rlgBaoVN3HaQ",
    "outputId": "4c7bc727-30c2-481a-e10d-0c1610727518"
   },
   "outputs": [
    {
     "data": {
      "text/plain": [
       "(25640, 5)"
      ]
     },
     "execution_count": 8,
     "metadata": {},
     "output_type": "execute_result"
    },
    {
     "data": {
      "text/plain": [
       "(5000, 5)"
      ]
     },
     "execution_count": 8,
     "metadata": {},
     "output_type": "execute_result"
    },
    {
     "data": {
      "text/plain": [
       "(1000, 5)"
      ]
     },
     "execution_count": 8,
     "metadata": {},
     "output_type": "execute_result"
    },
    {
     "data": {
      "text/plain": [
       "(1000, 5)"
      ]
     },
     "execution_count": 8,
     "metadata": {},
     "output_type": "execute_result"
    },
    {
     "data": {
      "text/plain": [
       "(1000, 5)"
      ]
     },
     "execution_count": 8,
     "metadata": {},
     "output_type": "execute_result"
    },
    {
     "data": {
      "text/plain": [
       "(1000, 5)"
      ]
     },
     "execution_count": 8,
     "metadata": {},
     "output_type": "execute_result"
    },
    {
     "data": {
      "text/plain": [
       "(1000, 5)"
      ]
     },
     "execution_count": 8,
     "metadata": {},
     "output_type": "execute_result"
    },
    {
     "data": {
      "text/plain": [
       "(5000, 5)"
      ]
     },
     "execution_count": 8,
     "metadata": {},
     "output_type": "execute_result"
    },
    {
     "data": {
      "text/plain": [
       "(5000, 5)"
      ]
     },
     "execution_count": 8,
     "metadata": {},
     "output_type": "execute_result"
    },
    {
     "data": {
      "text/plain": [
       "(5640, 5)"
      ]
     },
     "execution_count": 8,
     "metadata": {},
     "output_type": "execute_result"
    }
   ],
   "source": [
    "# Geocode periodically failed when running observations 5000-10000 at one time\n",
    "# However, breaking it into smaller chunks, the error did not resurface.  It only occurred with this subset (5000-10000)\n",
    "\n",
    "cut1_df = pa_df.iloc[0:5000, :] \n",
    "# cut2_df = pa_df.iloc[5000:10000, :] \n",
    "cut2a_df = pa_df.iloc[5000:6000, :] \n",
    "cut2b_df = pa_df.iloc[6000:7000, :] \n",
    "cut2c_df = pa_df.iloc[7000:8000, :] \n",
    "cut2d_df = pa_df.iloc[8000:9000, :] \n",
    "cut2e_df = pa_df.iloc[9000:10000, :] \n",
    "cut3_df = pa_df.iloc[10000:15000, :] \n",
    "cut4_df = pa_df.iloc[15000:20000, :] \n",
    "cut5_df = pa_df.iloc[20000:30000, :] \n",
    "\n",
    "pa_df.shape \n",
    "cut1_df.shape\n",
    "cut2a_df.shape\n",
    "cut2b_df.shape\n",
    "cut2c_df.shape\n",
    "cut2d_df.shape\n",
    "cut2e_df.shape\n",
    "cut3_df.shape\n",
    "cut4_df.shape\n",
    "cut5_df.shape\n",
    "\n",
    "cut1_df.to_csv('census_latlong_input_1.csv', header=False, index=False)\n",
    "cut2a_df.to_csv('census_latlong_input_2a.csv', header=False, index=False)\n",
    "cut2b_df.to_csv('census_latlong_input_2b.csv', header=False, index=False)\n",
    "cut2c_df.to_csv('census_latlong_input_2c.csv', header=False, index=False)\n",
    "cut2d_df.to_csv('census_latlong_input_2d.csv', header=False, index=False)\n",
    "cut2e_df.to_csv('census_latlong_input_2e.csv', header=False, index=False)\n",
    "cut3_df.to_csv('census_latlong_input_3.csv', header=False, index=False)\n",
    "cut4_df.to_csv('census_latlong_input_4.csv', header=False, index=False)\n",
    "cut5_df.to_csv('census_latlong_input_5.csv', header=False, index=False)\n"
   ]
  },
  {
   "cell_type": "markdown",
   "metadata": {
    "id": "YWueQnTN-AET"
   },
   "source": [
    "# Geocode the Data Using the US Census API\n",
    "\n",
    "### Define the Geocode Process as a Function"
   ]
  },
  {
   "cell_type": "code",
   "execution_count": null,
   "metadata": {
    "id": "w4jHDf1x45iI"
   },
   "outputs": [],
   "source": [
    "def getgeo(dfobj, csvobj):\n",
    "    url = 'https://geocoding.geo.census.gov/geocoder/geographies/addressbatch'\n",
    "    files = {'addressFile': (csvobj, open(csvobj, 'rb'), 'text/csv')}\n",
    "    payload = {'benchmark':'Public_AR_Current','vintage':'Current_Current'}\n",
    "    s = requests.post(url, files=files, data=payload)\n",
    "\n",
    "    #type(s)\n",
    "\n",
    "    dfobj = pd.read_csv(io.StringIO(s.text), sep=',', header=None, quoting=csv.QUOTE_ALL)\n",
    "    dfobj.columns = ['ID', 'ADDRESS_IN', 'MATCH_INDICATOR', 'MATCH_TYPE', 'ADDRESS_OUT', 'LONG_LAT', 'TIGER_EDGE', 'STREET_SIDE', 'FIPS_STATE', 'FIPS_COUNTY', 'CENSUS_TRACT', 'CENSUS_BLOCK']\n",
    "\n",
    "    with pd.option_context(\n",
    "        'display.width', None,\n",
    "        'display.max_columns', None,\n",
    "        'display.max_colwidth', -1,\n",
    "        'display.colheader_justify', 'left'):\n",
    "        print(dfobj.head())\n",
    "\n",
    "    #print(dfobj.info())\n",
    "    print(dfobj['MATCH_TYPE'].value_counts())\n",
    "    \n",
    "    return dfobj"
   ]
  },
  {
   "cell_type": "markdown",
   "metadata": {
    "id": "a5rvNj2N-LaZ"
   },
   "source": [
    "### Call the Geocode Function on Each of the Data Chunks"
   ]
  },
  {
   "cell_type": "code",
   "execution_count": null,
   "metadata": {
    "colab": {
     "base_uri": "https://localhost:8080/"
    },
    "executionInfo": {
     "elapsed": 99532,
     "status": "ok",
     "timestamp": 1666096019195,
     "user": {
      "displayName": "Jeff Teixeira",
      "userId": "16242091717847900949"
     },
     "user_tz": 240
    },
    "id": "AN6eO_bz5KP4",
    "outputId": "64b2fcb8-d2c6-4ad5-99de-58cebc780804"
   },
   "outputs": [
    {
     "name": "stdout",
     "output_type": "stream",
     "text": [
      "   ID         ADDRESS_IN                                  MATCH_INDICATOR  \\\n",
      "0  802870050   29   HUCKINS ST, ROXBURY, MA, 2119          Match            \n",
      "1  1101083000  33   W WALNUT PK, ROXBURY, MA, 2119         Tie              \n",
      "2  1102053000  52   HAVERFORD ST, JAMAICA PLAIN, MA, 2130  Match            \n",
      "3  1301250010  49   MONADNOCK ST, DORCHESTER, MA, 2125     Match            \n",
      "4  700950000   256   GOLD ST, SOUTH BOSTON, MA, 2127       Match            \n",
      "\n",
      "  MATCH_TYPE ADDRESS_OUT                                 \\\n",
      "0  Exact      29 HUCKINS ST, ROXBURY, MA, 02119           \n",
      "1  NaN        NaN                                         \n",
      "2  Exact      52 HAVERFORD ST, JAMAICA PLAIN, MA, 02130   \n",
      "3  Exact      49 MONADNOCK ST, DORCHESTER, MA, 02125      \n",
      "4  Exact      256 GOLD ST, SOUTH BOSTON, MA, 02127        \n",
      "\n",
      "  LONG_LAT                                TIGER_EDGE STREET_SIDE  FIPS_STATE  \\\n",
      "0  -71.07543237499993,42.323855010000045 85701065.00  R          25.00         \n",
      "1  NaN                                   NaN          NaN        NaN           \n",
      "2  -71.10188635799994,42.313157886000056 85699833.00  L          25.00         \n",
      "3  -71.06875589899994,42.31638613300004  85701335.00  R          25.00         \n",
      "4  -71.04849527899995,42.33551860100005  85712795.00  L          25.00         \n",
      "\n",
      "   FIPS_COUNTY  CENSUS_TRACT  CENSUS_BLOCK  \n",
      "0 25.00        90600.00      1001.00        \n",
      "1 NaN          NaN           NaN            \n",
      "2 25.00        120301.00     4007.00        \n",
      "3 25.00        91400.00      1002.00        \n",
      "4 25.00        60800.00      1002.00        \n",
      "Exact        4756\n",
      "Non_Exact     142\n",
      "Name: MATCH_TYPE, dtype: int64\n"
     ]
    }
   ],
   "source": [
    "geo_df1 = pd.DataFrame()\n",
    "geo_df1 = getgeo(geo_df1, 'census_latlong_input_1.csv')"
   ]
  },
  {
   "cell_type": "code",
   "execution_count": null,
   "metadata": {
    "colab": {
     "base_uri": "https://localhost:8080/"
    },
    "executionInfo": {
     "elapsed": 91897,
     "status": "ok",
     "timestamp": 1666096111083,
     "user": {
      "displayName": "Jeff Teixeira",
      "userId": "16242091717847900949"
     },
     "user_tz": 240
    },
    "id": "N5_6ve9e6I15",
    "outputId": "a74e9520-edfc-43ad-cbb3-a2ebe568a864"
   },
   "outputs": [
    {
     "name": "stdout",
     "output_type": "stream",
     "text": [
      "   ID         ADDRESS_IN                              MATCH_INDICATOR  \\\n",
      "0  1400570010  24   STANWOOD ST, DORCHESTER, MA, 2121  Match            \n",
      "1  1500905000  11   HOLIDAY ST, DORCHESTER, MA, 2124   No_Match         \n",
      "2  1405032000  40   HILLSBORO RD, MATTAPAN, MA, 2126   Match            \n",
      "3  1403675020  45 B  JONES AV, DORCHESTER, MA, 2124    Match            \n",
      "4  1403779001  58   JACOB ST, DORCHESTER, MA, 2124     Match            \n",
      "\n",
      "  MATCH_TYPE ADDRESS_OUT                             \\\n",
      "0  Exact      24 STANWOOD ST, DORCHESTER, MA, 02121   \n",
      "1  NaN        NaN                                     \n",
      "2  Exact      40 HILLSBORO RD, MATTAPAN, MA, 02126    \n",
      "3  Exact      45 JONES AVE, DORCHESTER, MA, 02124     \n",
      "4  Exact      58 JACOB ST, DORCHESTER, MA, 02124      \n",
      "\n",
      "  LONG_LAT                                TIGER_EDGE STREET_SIDE  FIPS_STATE  \\\n",
      "0  -71.08083813299999,42.30959153900005  85701566.00  L          25.00         \n",
      "1  NaN                                   NaN          NaN        NaN           \n",
      "2  -71.09567426399997,42.28282885700003  85705095.00  L          25.00         \n",
      "3  -71.08321052699995,42.286354207000045 85705656.00  R          25.00         \n",
      "4  -71.08374168299997,42.28529761400006  85705657.00  L          25.00         \n",
      "\n",
      "   FIPS_COUNTY  CENSUS_TRACT  CENSUS_BLOCK  \n",
      "0 25.00        90300.00      2006.00        \n",
      "1 NaN          NaN           NaN            \n",
      "2 25.00        101101.00     1004.00        \n",
      "3 25.00        100200.00     1002.00        \n",
      "4 25.00        100200.00     1005.00        \n",
      "Exact        964\n",
      "Non_Exact     18\n",
      "Name: MATCH_TYPE, dtype: int64\n",
      "   ID         ADDRESS_IN                               MATCH_INDICATOR  \\\n",
      "0  1603191000  102   ELMER RD, DORCHESTER, MA, 2124     Match            \n",
      "1  1603271000  21   SEDALIA RD, DORCHESTER, MA, 2124    Match            \n",
      "2  1603030000  44   DRACUT ST, DORCHESTER, MA, 2124     Match            \n",
      "3  1600313000  160   NEPONSET AV, DORCHESTER, MA, 2122  Match            \n",
      "4  1603866000  265   NEPONSET AV, DORCHESTER, MA, 2122  Match            \n",
      "\n",
      "  MATCH_TYPE ADDRESS_OUT                               \\\n",
      "0  Exact      102 ELMER RD, DORCHESTER, MA, 02124       \n",
      "1  Exact      21 SEDALIA RD, DORCHESTER, MA, 02124      \n",
      "2  Exact      44 DRACUT ST, DORCHESTER, MA, 02124       \n",
      "3  Exact      160 NEPONSET AVE, DORCHESTER, MA, 02122   \n",
      "4  Exact      265 NEPONSET AVE, DORCHESTER, MA, 02122   \n",
      "\n",
      "  LONG_LAT                               TIGER_EDGE STREET_SIDE  FIPS_STATE  \\\n",
      "0  -71.05700117399994,42.28681850300006 85715405.00  L          25.00         \n",
      "1  -71.05713340799997,42.28574750300004 85715397.00  R          25.00         \n",
      "2  -71.06210680999999,42.28737692900006 85722126.00  L          25.00         \n",
      "3  -71.05114864099994,42.29342208500003 85713814.00  L          25.00         \n",
      "4  -71.04815149299998,42.28972050900006 85715587.00  R          25.00         \n",
      "\n",
      "   FIPS_COUNTY  CENSUS_TRACT  CENSUS_BLOCK  \n",
      "0 25.00        100800.00     2002.00        \n",
      "1 25.00        100800.00     2008.00        \n",
      "2 25.00        100800.00     1001.00        \n",
      "3 25.00        92101.00      1010.00        \n",
      "4 25.00        100603.00     1016.00        \n",
      "Exact        959\n",
      "Non_Exact     23\n",
      "Name: MATCH_TYPE, dtype: int64\n",
      "   ID         ADDRESS_IN                              MATCH_INDICATOR  \\\n",
      "0  1604630010  36   ROCKNE AV, DORCHESTER, MA, 2124    Match            \n",
      "1  1700729000  29   MOULTRIE ST, DORCHESTER, MA, 2124  Match            \n",
      "2  1605051000  889   ADAMS ST, DORCHESTER, MA, 2124    Match            \n",
      "3  1605131000  90   MILTON ST, DORCHESTER, MA, 2124    Match            \n",
      "4  1605372000  54   RICHVIEW ST, DORCHESTER, MA, 2124  Match            \n",
      "\n",
      "  MATCH_TYPE ADDRESS_OUT                             \\\n",
      "0  Exact      36 ROCKNE AVE, DORCHESTER, MA, 02124    \n",
      "1  Exact      29 MOULTRIE ST, DORCHESTER, MA, 02124   \n",
      "2  Exact      889 ADAMS ST, DORCHESTER, MA, 02124     \n",
      "3  Exact      90 MILTON ST, DORCHESTER, MA, 02124     \n",
      "4  Exact      54 RICHVIEW ST, DORCHESTER, MA, 02124   \n",
      "\n",
      "  LONG_LAT                               TIGER_EDGE STREET_SIDE  FIPS_STATE  \\\n",
      "0  -71.05266377999999,42.28122989700006 85715489.00  L          25.00         \n",
      "1  -71.06938082799996,42.29159610100004 85702317.00  R          25.00         \n",
      "2  -71.05880194699995,42.28101684000006 85715363.00  R          25.00         \n",
      "3  -71.05566982099998,42.28027276200004 85715494.00  L          25.00         \n",
      "4  -71.06195300399997,42.27781095000006 85724489.00  L          25.00         \n",
      "\n",
      "   FIPS_COUNTY  CENSUS_TRACT  CENSUS_BLOCK  \n",
      "0 25.00        100700.00     3009.00        \n",
      "1 25.00        92200.00      3006.00        \n",
      "2 25.00        100800.00     4001.00        \n",
      "3 25.00        100700.00     5003.00        \n",
      "4 25.00        100800.00     5003.00        \n",
      "Exact        965\n",
      "Non_Exact     17\n",
      "Name: MATCH_TYPE, dtype: int64\n",
      "   ID         ADDRESS_IN                                MATCH_INDICATOR  \\\n",
      "0  1703160000  42   CODMAN ST, DORCHESTER, MA, 2124      Match            \n",
      "1  1703481000  39   OAKRIDGE ST, MATTAPAN, MA, 2126      Match            \n",
      "2  1704130000  46   AVONDALE ST, DORCHESTER, MA, 2124    Match            \n",
      "3  1702624000  147   FAIRMOUNT ST, DORCHESTER, MA, 2124  Match            \n",
      "4  1704725000  15   MONTAGUE ST, DORCHESTER, MA, 2124    Match            \n",
      "\n",
      "  MATCH_TYPE ADDRESS_OUT                               \\\n",
      "0  Exact      42 CODMAN ST, DORCHESTER, MA, 02124       \n",
      "1  Exact      39 OAKRIDGE ST, MATTAPAN, MA, 02126       \n",
      "2  Exact      46 AVONDALE ST, DORCHESTER, MA, 02124     \n",
      "3  Exact      147 FAIRMOUNT ST, DORCHESTER, MA, 02124   \n",
      "4  Exact      15 MONTAGUE ST, DORCHESTER, MA, 02124     \n",
      "\n",
      "  LONG_LAT                               TIGER_EDGE  STREET_SIDE  FIPS_STATE  \\\n",
      "0  -71.07371650399995,42.27830505000003 85724629.00   L          25.00         \n",
      "1  -71.07434006899996,42.27704445300003 651813835.00  R          25.00         \n",
      "2  -71.06878127099998,42.27508153600007 85706211.00   L          25.00         \n",
      "3  -71.07745288399997,42.27980960200006 85705981.00   R          25.00         \n",
      "4  -71.06999388799994,42.28574820100005 85706023.00   R          25.00         \n",
      "\n",
      "   FIPS_COUNTY  CENSUS_TRACT  CENSUS_BLOCK  \n",
      "0 25.00        100400.00     3003.00        \n",
      "1 25.00        100900.00     3007.00        \n",
      "2 25.00        100900.00     2001.00        \n",
      "3 25.00        100300.00     2003.00        \n",
      "4 25.00        100500.00     2006.00        \n",
      "Exact        986\n",
      "Non_Exact      6\n",
      "Name: MATCH_TYPE, dtype: int64\n",
      "   ID         ADDRESS_IN                              MATCH_INDICATOR  \\\n",
      "0  1801909000  69   FAVRE ST, MATTAPAN, MA, 2126       Match            \n",
      "1  1801107000  56   REXFORD ST, MATTAPAN, MA, 2126     Match            \n",
      "2  1801302000  38   MASSASOIT ST, HYDE PARK, MA, 2136  Match            \n",
      "3  1802238000  20   MONTEREY AV, MATTAPAN, MA, 2126    Match            \n",
      "4  1800653000  10   WOODDALE AV, MATTAPAN, MA, 2126    Match            \n",
      "\n",
      "  MATCH_TYPE ADDRESS_OUT                             \\\n",
      "0  Exact      69 FAVRE ST, MATTAPAN, MA, 02126        \n",
      "1  Exact      56 REXFORD ST, MATTAPAN, MA, 02126      \n",
      "2  Exact      38 MASSASOIT ST, HYDE PARK, MA, 02136   \n",
      "3  Exact      20 MONTEREY AVE, MATTAPAN, MA, 02126    \n",
      "4  Non_Exact  10 WOODALE AVE, MATTAPAN, MA, 02126     \n",
      "\n",
      "  LONG_LAT                                TIGER_EDGE STREET_SIDE  FIPS_STATE  \\\n",
      "0  -71.09859634499998,42.27263775400007  85705187.00  R          25.00         \n",
      "1  -71.09497714299994,42.27019053200007  85705292.00  L          25.00         \n",
      "2  -71.10115691899995,42.262961233000055 85705500.00  L          25.00         \n",
      "3  -71.09801962499995,42.27592388800008  85705167.00  L          25.00         \n",
      "4  -71.08764421699993,42.27613190100004  85705780.00  L          25.00         \n",
      "\n",
      "   FIPS_COUNTY  CENSUS_TRACT  CENSUS_BLOCK  \n",
      "0 25.00        101001.00     6007.00        \n",
      "1 25.00        101001.00     4004.00        \n",
      "2 25.00        140400.00     3002.00        \n",
      "3 25.00        101001.00     6000.00        \n",
      "4 25.00        101002.00     3003.00        \n",
      "Exact        990\n",
      "Non_Exact      6\n",
      "Name: MATCH_TYPE, dtype: int64\n"
     ]
    }
   ],
   "source": [
    "geo_df2a = pd.DataFrame()\n",
    "geo_df2a = getgeo(geo_df2a, 'census_latlong_input_2a.csv')\n",
    "\n",
    "geo_df2b = pd.DataFrame()\n",
    "geo_df2b = getgeo(geo_df2b, 'census_latlong_input_2b.csv')\n",
    "\n",
    "geo_df2c = pd.DataFrame()\n",
    "geo_df2c = getgeo(geo_df2c, 'census_latlong_input_2c.csv')\n",
    "\n",
    "geo_df2d = pd.DataFrame()\n",
    "geo_df2d = getgeo(geo_df2d, 'census_latlong_input_2d.csv')\n",
    "\n",
    "geo_df2e = pd.DataFrame()\n",
    "geo_df2e = getgeo(geo_df2e, 'census_latlong_input_2e.csv')\n"
   ]
  },
  {
   "cell_type": "code",
   "execution_count": null,
   "metadata": {
    "colab": {
     "base_uri": "https://localhost:8080/"
    },
    "executionInfo": {
     "elapsed": 66130,
     "status": "ok",
     "timestamp": 1666096177204,
     "user": {
      "displayName": "Jeff Teixeira",
      "userId": "16242091717847900949"
     },
     "user_tz": 240
    },
    "id": "aBR2uT6O6Ms7",
    "outputId": "d0b0b6bc-697b-42ed-9ba0-1c4c8cb2d8c1"
   },
   "outputs": [
    {
     "name": "stdout",
     "output_type": "stream",
     "text": [
      "   ID         ADDRESS_IN                                 MATCH_INDICATOR  \\\n",
      "0  1811197000  29   GORDON AV, HYDE PARK, MA, 2136        Match            \n",
      "1  1811873001  179   RESERVATION RD, HYDE PARK, MA, 2136  Match            \n",
      "2  1808462000  149   SHERRIN ST, HYDE PARK, MA, 2136      Match            \n",
      "3  1808221000  34   GWINNETT ST, HYDE PARK, MA, 2136      Match            \n",
      "4  1810788000  15   FARWELL AV, HYDE PARK, MA, 2136       Match            \n",
      "\n",
      "  MATCH_TYPE ADDRESS_OUT                                \\\n",
      "0  Exact      29 GORDON AVE, HYDE PARK, MA, 02136        \n",
      "1  Exact      179 RESERVATION RD, HYDE PARK, MA, 02136   \n",
      "2  Exact      149 SHERRIN ST, HYDE PARK, MA, 02136       \n",
      "3  Exact      34 GWINNETT ST, HYDE PARK, MA, 02136       \n",
      "4  Exact      15 FARWELL AVE, HYDE PARK, MA, 02136       \n",
      "\n",
      "  LONG_LAT                                TIGER_EDGE STREET_SIDE  FIPS_STATE  \\\n",
      "0  -71.12637133799996,42.256660632000035 85704390.00  R          25.00         \n",
      "1  -71.13047558999995,42.25162179700004  85704277.00  R          25.00         \n",
      "2  -71.12547671899995,42.266636307000056 85704033.00  R          25.00         \n",
      "3  -71.12436849599999,42.263299784000026 85704353.00  L          25.00         \n",
      "4  -71.11191356099994,42.250012869000045 85719820.00  R          25.00         \n",
      "\n",
      "   FIPS_COUNTY  CENSUS_TRACT  CENSUS_BLOCK  \n",
      "0 25.00        140107.00     1017.00        \n",
      "1 25.00        140107.00     2000.00        \n",
      "2 25.00        140105.00     1018.00        \n",
      "3 25.00        140105.00     1022.00        \n",
      "4 25.00        140202.00     5006.00        \n",
      "Exact        4933\n",
      "Non_Exact      25\n",
      "Name: MATCH_TYPE, dtype: int64\n"
     ]
    }
   ],
   "source": [
    "geo_df3 = pd.DataFrame()\n",
    "geo_df3 = getgeo(geo_df3, 'census_latlong_input_3.csv')"
   ]
  },
  {
   "cell_type": "code",
   "execution_count": null,
   "metadata": {
    "colab": {
     "base_uri": "https://localhost:8080/"
    },
    "executionInfo": {
     "elapsed": 78391,
     "status": "ok",
     "timestamp": 1666096255591,
     "user": {
      "displayName": "Jeff Teixeira",
      "userId": "16242091717847900949"
     },
     "user_tz": 240
    },
    "id": "F8oR588U6QXG",
    "outputId": "164f8bd8-ca27-4c27-eccc-45251210cb3a"
   },
   "outputs": [
    {
     "name": "stdout",
     "output_type": "stream",
     "text": [
      "   ID         ADDRESS_IN                                 MATCH_INDICATOR  \\\n",
      "0  2003509000  222   LAGRANGE ST, WEST ROXBURY, MA, 2132  Match            \n",
      "1  2002539000  231   LAGRANGE ST, WEST ROXBURY, MA, 2132  Match            \n",
      "2  1900943000  10   ST JOHN ST, JAMAICA PLAIN, MA, 2130   Match            \n",
      "3  1903418000  5   DELFORD ST, ROSLINDALE, MA, 2131       Match            \n",
      "4  2000919000  15   HAVANA ST, ROSLINDALE, MA, 2131       Match            \n",
      "\n",
      "  MATCH_TYPE ADDRESS_OUT                                \\\n",
      "0  Exact      222 LAGRANGE ST, WEST ROXBURY, MA, 02132   \n",
      "1  Exact      231 LAGRANGE ST, WEST ROXBURY, MA, 02132   \n",
      "2  Exact      10 ST JOHN ST, JAMAICA PLAIN, MA, 02130    \n",
      "3  Exact      5 DELFORD ST, ROSLINDALE, MA, 02131        \n",
      "4  Exact      15 HAVANA ST, ROSLINDALE, MA, 02131        \n",
      "\n",
      "  LONG_LAT                                TIGER_EDGE STREET_SIDE  FIPS_STATE  \\\n",
      "0  -71.15173876899996,42.27618830100005  85702995.00  L          25.00         \n",
      "1  -71.15264485699998,42.27681993200008  85702989.00  R          25.00         \n",
      "2  -71.11329870399999,42.31410344900007  85728495.00  L          25.00         \n",
      "3  -71.12083790499997,42.292331699000044 85696669.00  R          25.00         \n",
      "4  -71.14063403099993,42.281010277000064 85703428.00  R          25.00         \n",
      "\n",
      "   FIPS_COUNTY  CENSUS_TRACT  CENSUS_BLOCK  \n",
      "0 25.00        130300.00     5008.00        \n",
      "1 25.00        130300.00     3016.00        \n",
      "2 25.00        120400.00     4004.00        \n",
      "3 25.00        110104.00     2009.00        \n",
      "4 25.00        110501.00     2003.00        \n",
      "Exact        4822\n",
      "Non_Exact      63\n",
      "Name: MATCH_TYPE, dtype: int64\n"
     ]
    }
   ],
   "source": [
    "geo_df4 = pd.DataFrame()\n",
    "geo_df4 = getgeo(geo_df4, 'census_latlong_input_4.csv')"
   ]
  },
  {
   "cell_type": "code",
   "execution_count": null,
   "metadata": {
    "colab": {
     "base_uri": "https://localhost:8080/"
    },
    "executionInfo": {
     "elapsed": 120067,
     "status": "ok",
     "timestamp": 1666096375653,
     "user": {
      "displayName": "Jeff Teixeira",
      "userId": "16242091717847900949"
     },
     "user_tz": 240
    },
    "id": "6oymW1lm6Ujx",
    "outputId": "b85f1fbe-af4c-4bfb-a56a-c899c7f385c1"
   },
   "outputs": [
    {
     "name": "stdout",
     "output_type": "stream",
     "text": [
      "   ID         ADDRESS_IN                                  MATCH_INDICATOR  \\\n",
      "0  2007540010  352   COREY ST, WEST ROXBURY, MA, 2132      Match            \n",
      "1  2005805000  23   MANTHORNE RD, WEST ROXBURY, MA, 2132   Match            \n",
      "2  2011498000  2   STIMSON RD, WEST ROXBURY, MA, 2132      Match            \n",
      "3  2010046000  124   NEW HAVEN ST, WEST ROXBURY, MA, 2132  Match            \n",
      "4  2010287000  104   SALMAN ST, WEST ROXBURY, MA, 2132     Match            \n",
      "\n",
      "  MATCH_TYPE ADDRESS_OUT                                 \\\n",
      "0  Exact      352 COREY ST, WEST ROXBURY, MA, 02132       \n",
      "1  Exact      23 MANTHORNE RD, WEST ROXBURY, MA, 02132    \n",
      "2  Exact      2 STIMSON RD, WEST ROXBURY, MA, 02132       \n",
      "3  Exact      124 NEW HAVEN ST, WEST ROXBURY, MA, 02132   \n",
      "4  Exact      104 SALMAN ST, WEST ROXBURY, MA, 02132      \n",
      "\n",
      "  LONG_LAT                                TIGER_EDGE  STREET_SIDE  FIPS_STATE  \\\n",
      "0  -71.16452688299995,42.294225690000076 636133386.00  L          25.00         \n",
      "1  -71.15028527699997,42.288156049000065 85702774.00   R          25.00         \n",
      "2  -71.15944926399999,42.262234199000034 85703171.00   L          25.00         \n",
      "3  -71.16641372399994,42.26516171600008  85702669.00   L          25.00         \n",
      "4  -71.16585092899999,42.26304301400006  85703101.00   L          25.00         \n",
      "\n",
      "   FIPS_COUNTY  CENSUS_TRACT  CENSUS_BLOCK  \n",
      "0 25.00        130101.00     2003.00        \n",
      "1 25.00        130200.00     2007.00        \n",
      "2 25.00        130404.00     2013.00        \n",
      "3 25.00        130402.00     3003.00        \n",
      "4 25.00        130402.00     3009.00        \n",
      "Exact        5500\n",
      "Non_Exact      42\n",
      "Name: MATCH_TYPE, dtype: int64\n"
     ]
    }
   ],
   "source": [
    "geo_df5 = pd.DataFrame()\n",
    "geo_df5 = getgeo(geo_df5, 'census_latlong_input_5.csv')"
   ]
  },
  {
   "cell_type": "markdown",
   "metadata": {
    "id": "FZVU8G_5-W_P"
   },
   "source": [
    "# Combine the Geocode Results and Finalize the Data"
   ]
  },
  {
   "cell_type": "code",
   "execution_count": null,
   "metadata": {
    "colab": {
     "base_uri": "https://localhost:8080/"
    },
    "executionInfo": {
     "elapsed": 276,
     "status": "ok",
     "timestamp": 1666101189838,
     "user": {
      "displayName": "Jeff Teixeira",
      "userId": "16242091717847900949"
     },
     "user_tz": 240
    },
    "id": "WAxYOQby6a03",
    "outputId": "301e1aa8-378f-49f7-eeaf-71fd68c3a678"
   },
   "outputs": [
    {
     "name": "stdout",
     "output_type": "stream",
     "text": [
      "(25640, 12)\n",
      "<class 'pandas.core.frame.DataFrame'>\n",
      "RangeIndex: 25640 entries, 0 to 25639\n",
      "Data columns (total 12 columns):\n",
      " #   Column           Non-Null Count  Dtype  \n",
      "---  ------           --------------  -----  \n",
      " 0   ID               25640 non-null  int64  \n",
      " 1   ADDRESS_IN       25640 non-null  object \n",
      " 2   MATCH_INDICATOR  25640 non-null  object \n",
      " 3   MATCH_TYPE       25217 non-null  object \n",
      " 4   ADDRESS_OUT      25217 non-null  object \n",
      " 5   LONG_LAT         25217 non-null  object \n",
      " 6   TIGER_EDGE       25217 non-null  float64\n",
      " 7   STREET_SIDE      25217 non-null  object \n",
      " 8   FIPS_STATE       25217 non-null  float64\n",
      " 9   FIPS_COUNTY      25217 non-null  float64\n",
      " 10  CENSUS_TRACT     25217 non-null  float64\n",
      " 11  CENSUS_BLOCK     25217 non-null  float64\n",
      "dtypes: float64(5), int64(1), object(6)\n",
      "memory usage: 2.3+ MB\n",
      "None\n",
      "Exact        24875\n",
      "Non_Exact      342\n",
      "Name: MATCH_TYPE, dtype: int64\n",
      "0\n"
     ]
    }
   ],
   "source": [
    "pa202_geo_df = geo_df1.copy()\n",
    "pa202_geo_df = pa202_geo_df.append(geo_df2a, ignore_index=True)\n",
    "pa202_geo_df = pa202_geo_df.append(geo_df2b, ignore_index=True)\n",
    "pa202_geo_df = pa202_geo_df.append(geo_df2c, ignore_index=True)\n",
    "pa202_geo_df = pa202_geo_df.append(geo_df2d, ignore_index=True)\n",
    "pa202_geo_df = pa202_geo_df.append(geo_df2e, ignore_index=True)\n",
    "pa202_geo_df = pa202_geo_df.append(geo_df3, ignore_index=True)\n",
    "pa202_geo_df = pa202_geo_df.append(geo_df4, ignore_index=True)\n",
    "pa202_geo_df = pa202_geo_df.append(geo_df5, ignore_index=True)\n",
    "\n",
    "print(pa202_geo_df.shape)\n",
    "print(pa202_geo_df.info())\n",
    "print(pa202_geo_df['MATCH_TYPE'].value_counts())\n",
    "\n",
    "# check for duplicates\n",
    "print(len(pa202_geo_df['ID'])-len(pa202_geo_df['ID'].drop_duplicates()))"
   ]
  },
  {
   "cell_type": "markdown",
   "metadata": {
    "id": "sugaDR5Z-gOL"
   },
   "source": [
    "### Parse Lat/Long and Add PID as String"
   ]
  },
  {
   "cell_type": "code",
   "execution_count": null,
   "metadata": {
    "colab": {
     "base_uri": "https://localhost:8080/"
    },
    "executionInfo": {
     "elapsed": 14,
     "status": "ok",
     "timestamp": 1666096375656,
     "user": {
      "displayName": "Jeff Teixeira",
      "userId": "16242091717847900949"
     },
     "user_tz": 240
    },
    "id": "StjzQWQg8IQQ",
    "outputId": "51c71f9b-bbf0-41a0-d098-c04f69822b4a"
   },
   "outputs": [
    {
     "name": "stdout",
     "output_type": "stream",
     "text": [
      "<class 'pandas.core.frame.DataFrame'>\n",
      "RangeIndex: 25640 entries, 0 to 25639\n",
      "Data columns (total 15 columns):\n",
      " #   Column           Non-Null Count  Dtype  \n",
      "---  ------           --------------  -----  \n",
      " 0   ID               25640 non-null  int64  \n",
      " 1   ADDRESS_IN       25640 non-null  object \n",
      " 2   MATCH_INDICATOR  25640 non-null  object \n",
      " 3   MATCH_TYPE       25217 non-null  object \n",
      " 4   ADDRESS_OUT      25217 non-null  object \n",
      " 5   LONG_LAT         25217 non-null  object \n",
      " 6   TIGER_EDGE       25217 non-null  float64\n",
      " 7   STREET_SIDE      25217 non-null  object \n",
      " 8   FIPS_STATE       25217 non-null  float64\n",
      " 9   FIPS_COUNTY      25217 non-null  float64\n",
      " 10  CENSUS_TRACT     25217 non-null  float64\n",
      " 11  CENSUS_BLOCK     25217 non-null  float64\n",
      " 12  PID              25640 non-null  object \n",
      " 13  LATITUDE         25217 non-null  float64\n",
      " 14  LONGITUDE        25217 non-null  float64\n",
      "dtypes: float64(7), int64(1), object(7)\n",
      "memory usage: 2.9+ MB\n",
      "None\n"
     ]
    }
   ],
   "source": [
    "\n",
    "pa202_geo_df[\"PID\"] = pa202_geo_df[\"ID\"].astype(str)\n",
    "pa202_geo_df['LATITUDE'] = pa202_geo_df['LONG_LAT'].str.split(\",\").str[1].astype(float)\n",
    "pa202_geo_df['LONGITUDE'] = pa202_geo_df['LONG_LAT'].str.split(\",\").str[0].astype(float)\n",
    "\n",
    "print(pa202_geo_df.info())\n"
   ]
  },
  {
   "cell_type": "code",
   "execution_count": null,
   "metadata": {
    "colab": {
     "base_uri": "https://localhost:8080/",
     "height": 531
    },
    "executionInfo": {
     "elapsed": 8,
     "status": "ok",
     "timestamp": 1666096376728,
     "user": {
      "displayName": "Jeff Teixeira",
      "userId": "16242091717847900949"
     },
     "user_tz": 240
    },
    "id": "_MmF_-A9AubU",
    "outputId": "6de07ef8-ce2c-4351-8c1c-cf41dcb02250"
   },
   "outputs": [
    {
     "data": {
      "text/html": [
       "\n",
       "  <div id=\"df-c8568a37-73ee-4f88-b091-1bcef836aad9\">\n",
       "    <div class=\"colab-df-container\">\n",
       "      <div>\n",
       "<style scoped>\n",
       "    .dataframe tbody tr th:only-of-type {\n",
       "        vertical-align: middle;\n",
       "    }\n",
       "\n",
       "    .dataframe tbody tr th {\n",
       "        vertical-align: top;\n",
       "    }\n",
       "\n",
       "    .dataframe thead th {\n",
       "        text-align: right;\n",
       "    }\n",
       "</style>\n",
       "<table border=\"1\" class=\"dataframe\">\n",
       "  <thead>\n",
       "    <tr style=\"text-align: right;\">\n",
       "      <th></th>\n",
       "      <th>ID</th>\n",
       "      <th>ADDRESS_IN</th>\n",
       "      <th>MATCH_INDICATOR</th>\n",
       "      <th>MATCH_TYPE</th>\n",
       "      <th>ADDRESS_OUT</th>\n",
       "      <th>LONG_LAT</th>\n",
       "      <th>TIGER_EDGE</th>\n",
       "      <th>STREET_SIDE</th>\n",
       "      <th>FIPS_STATE</th>\n",
       "      <th>FIPS_COUNTY</th>\n",
       "      <th>CENSUS_TRACT</th>\n",
       "      <th>CENSUS_BLOCK</th>\n",
       "      <th>PID</th>\n",
       "      <th>LATITUDE</th>\n",
       "      <th>LONGITUDE</th>\n",
       "    </tr>\n",
       "  </thead>\n",
       "  <tbody>\n",
       "    <tr>\n",
       "      <th>0</th>\n",
       "      <td>802870050</td>\n",
       "      <td>29   HUCKINS ST, ROXBURY, MA, 2119</td>\n",
       "      <td>Match</td>\n",
       "      <td>Exact</td>\n",
       "      <td>29 HUCKINS ST, ROXBURY, MA, 02119</td>\n",
       "      <td>-71.07543237499993,42.323855010000045</td>\n",
       "      <td>85701065.00</td>\n",
       "      <td>R</td>\n",
       "      <td>25.00</td>\n",
       "      <td>25.00</td>\n",
       "      <td>90600.00</td>\n",
       "      <td>1001.00</td>\n",
       "      <td>802870050</td>\n",
       "      <td>42.32</td>\n",
       "      <td>-71.08</td>\n",
       "    </tr>\n",
       "    <tr>\n",
       "      <th>1</th>\n",
       "      <td>1101083000</td>\n",
       "      <td>33   W WALNUT PK, ROXBURY, MA, 2119</td>\n",
       "      <td>Tie</td>\n",
       "      <td>NaN</td>\n",
       "      <td>NaN</td>\n",
       "      <td>NaN</td>\n",
       "      <td>NaN</td>\n",
       "      <td>NaN</td>\n",
       "      <td>NaN</td>\n",
       "      <td>NaN</td>\n",
       "      <td>NaN</td>\n",
       "      <td>NaN</td>\n",
       "      <td>1101083000</td>\n",
       "      <td>NaN</td>\n",
       "      <td>NaN</td>\n",
       "    </tr>\n",
       "    <tr>\n",
       "      <th>2</th>\n",
       "      <td>1102053000</td>\n",
       "      <td>52   HAVERFORD ST, JAMAICA PLAIN, MA, 2130</td>\n",
       "      <td>Match</td>\n",
       "      <td>Exact</td>\n",
       "      <td>52 HAVERFORD ST, JAMAICA PLAIN, MA, 02130</td>\n",
       "      <td>-71.10188635799994,42.313157886000056</td>\n",
       "      <td>85699833.00</td>\n",
       "      <td>L</td>\n",
       "      <td>25.00</td>\n",
       "      <td>25.00</td>\n",
       "      <td>120301.00</td>\n",
       "      <td>4007.00</td>\n",
       "      <td>1102053000</td>\n",
       "      <td>42.31</td>\n",
       "      <td>-71.10</td>\n",
       "    </tr>\n",
       "    <tr>\n",
       "      <th>3</th>\n",
       "      <td>1301250010</td>\n",
       "      <td>49   MONADNOCK ST, DORCHESTER, MA, 2125</td>\n",
       "      <td>Match</td>\n",
       "      <td>Exact</td>\n",
       "      <td>49 MONADNOCK ST, DORCHESTER, MA, 02125</td>\n",
       "      <td>-71.06875589899994,42.31638613300004</td>\n",
       "      <td>85701335.00</td>\n",
       "      <td>R</td>\n",
       "      <td>25.00</td>\n",
       "      <td>25.00</td>\n",
       "      <td>91400.00</td>\n",
       "      <td>1002.00</td>\n",
       "      <td>1301250010</td>\n",
       "      <td>42.32</td>\n",
       "      <td>-71.07</td>\n",
       "    </tr>\n",
       "    <tr>\n",
       "      <th>4</th>\n",
       "      <td>700950000</td>\n",
       "      <td>256   GOLD ST, SOUTH BOSTON, MA, 2127</td>\n",
       "      <td>Match</td>\n",
       "      <td>Exact</td>\n",
       "      <td>256 GOLD ST, SOUTH BOSTON, MA, 02127</td>\n",
       "      <td>-71.04849527899995,42.33551860100005</td>\n",
       "      <td>85712795.00</td>\n",
       "      <td>L</td>\n",
       "      <td>25.00</td>\n",
       "      <td>25.00</td>\n",
       "      <td>60800.00</td>\n",
       "      <td>1002.00</td>\n",
       "      <td>700950000</td>\n",
       "      <td>42.34</td>\n",
       "      <td>-71.05</td>\n",
       "    </tr>\n",
       "  </tbody>\n",
       "</table>\n",
       "</div>\n",
       "      <button class=\"colab-df-convert\" onclick=\"convertToInteractive('df-c8568a37-73ee-4f88-b091-1bcef836aad9')\"\n",
       "              title=\"Convert this dataframe to an interactive table.\"\n",
       "              style=\"display:none;\">\n",
       "        \n",
       "  <svg xmlns=\"http://www.w3.org/2000/svg\" height=\"24px\"viewBox=\"0 0 24 24\"\n",
       "       width=\"24px\">\n",
       "    <path d=\"M0 0h24v24H0V0z\" fill=\"none\"/>\n",
       "    <path d=\"M18.56 5.44l.94 2.06.94-2.06 2.06-.94-2.06-.94-.94-2.06-.94 2.06-2.06.94zm-11 1L8.5 8.5l.94-2.06 2.06-.94-2.06-.94L8.5 2.5l-.94 2.06-2.06.94zm10 10l.94 2.06.94-2.06 2.06-.94-2.06-.94-.94-2.06-.94 2.06-2.06.94z\"/><path d=\"M17.41 7.96l-1.37-1.37c-.4-.4-.92-.59-1.43-.59-.52 0-1.04.2-1.43.59L10.3 9.45l-7.72 7.72c-.78.78-.78 2.05 0 2.83L4 21.41c.39.39.9.59 1.41.59.51 0 1.02-.2 1.41-.59l7.78-7.78 2.81-2.81c.8-.78.8-2.07 0-2.86zM5.41 20L4 18.59l7.72-7.72 1.47 1.35L5.41 20z\"/>\n",
       "  </svg>\n",
       "      </button>\n",
       "      \n",
       "  <style>\n",
       "    .colab-df-container {\n",
       "      display:flex;\n",
       "      flex-wrap:wrap;\n",
       "      gap: 12px;\n",
       "    }\n",
       "\n",
       "    .colab-df-convert {\n",
       "      background-color: #E8F0FE;\n",
       "      border: none;\n",
       "      border-radius: 50%;\n",
       "      cursor: pointer;\n",
       "      display: none;\n",
       "      fill: #1967D2;\n",
       "      height: 32px;\n",
       "      padding: 0 0 0 0;\n",
       "      width: 32px;\n",
       "    }\n",
       "\n",
       "    .colab-df-convert:hover {\n",
       "      background-color: #E2EBFA;\n",
       "      box-shadow: 0px 1px 2px rgba(60, 64, 67, 0.3), 0px 1px 3px 1px rgba(60, 64, 67, 0.15);\n",
       "      fill: #174EA6;\n",
       "    }\n",
       "\n",
       "    [theme=dark] .colab-df-convert {\n",
       "      background-color: #3B4455;\n",
       "      fill: #D2E3FC;\n",
       "    }\n",
       "\n",
       "    [theme=dark] .colab-df-convert:hover {\n",
       "      background-color: #434B5C;\n",
       "      box-shadow: 0px 1px 3px 1px rgba(0, 0, 0, 0.15);\n",
       "      filter: drop-shadow(0px 1px 2px rgba(0, 0, 0, 0.3));\n",
       "      fill: #FFFFFF;\n",
       "    }\n",
       "  </style>\n",
       "\n",
       "      <script>\n",
       "        const buttonEl =\n",
       "          document.querySelector('#df-c8568a37-73ee-4f88-b091-1bcef836aad9 button.colab-df-convert');\n",
       "        buttonEl.style.display =\n",
       "          google.colab.kernel.accessAllowed ? 'block' : 'none';\n",
       "\n",
       "        async function convertToInteractive(key) {\n",
       "          const element = document.querySelector('#df-c8568a37-73ee-4f88-b091-1bcef836aad9');\n",
       "          const dataTable =\n",
       "            await google.colab.kernel.invokeFunction('convertToInteractive',\n",
       "                                                     [key], {});\n",
       "          if (!dataTable) return;\n",
       "\n",
       "          const docLinkHtml = 'Like what you see? Visit the ' +\n",
       "            '<a target=\"_blank\" href=https://colab.research.google.com/notebooks/data_table.ipynb>data table notebook</a>'\n",
       "            + ' to learn more about interactive tables.';\n",
       "          element.innerHTML = '';\n",
       "          dataTable['output_type'] = 'display_data';\n",
       "          await google.colab.output.renderOutput(dataTable, element);\n",
       "          const docLink = document.createElement('div');\n",
       "          docLink.innerHTML = docLinkHtml;\n",
       "          element.appendChild(docLink);\n",
       "        }\n",
       "      </script>\n",
       "    </div>\n",
       "  </div>\n",
       "  "
      ],
      "text/plain": [
       "           ID                                  ADDRESS_IN MATCH_INDICATOR  \\\n",
       "0   802870050          29   HUCKINS ST, ROXBURY, MA, 2119           Match   \n",
       "1  1101083000         33   W WALNUT PK, ROXBURY, MA, 2119             Tie   \n",
       "2  1102053000  52   HAVERFORD ST, JAMAICA PLAIN, MA, 2130           Match   \n",
       "3  1301250010     49   MONADNOCK ST, DORCHESTER, MA, 2125           Match   \n",
       "4   700950000       256   GOLD ST, SOUTH BOSTON, MA, 2127           Match   \n",
       "\n",
       "  MATCH_TYPE                                ADDRESS_OUT  \\\n",
       "0      Exact          29 HUCKINS ST, ROXBURY, MA, 02119   \n",
       "1        NaN                                        NaN   \n",
       "2      Exact  52 HAVERFORD ST, JAMAICA PLAIN, MA, 02130   \n",
       "3      Exact     49 MONADNOCK ST, DORCHESTER, MA, 02125   \n",
       "4      Exact       256 GOLD ST, SOUTH BOSTON, MA, 02127   \n",
       "\n",
       "                                LONG_LAT  TIGER_EDGE STREET_SIDE  FIPS_STATE  \\\n",
       "0  -71.07543237499993,42.323855010000045 85701065.00           R       25.00   \n",
       "1                                    NaN         NaN         NaN         NaN   \n",
       "2  -71.10188635799994,42.313157886000056 85699833.00           L       25.00   \n",
       "3   -71.06875589899994,42.31638613300004 85701335.00           R       25.00   \n",
       "4   -71.04849527899995,42.33551860100005 85712795.00           L       25.00   \n",
       "\n",
       "   FIPS_COUNTY  CENSUS_TRACT  CENSUS_BLOCK         PID  LATITUDE  LONGITUDE  \n",
       "0        25.00      90600.00       1001.00   802870050     42.32     -71.08  \n",
       "1          NaN           NaN           NaN  1101083000       NaN        NaN  \n",
       "2        25.00     120301.00       4007.00  1102053000     42.31     -71.10  \n",
       "3        25.00      91400.00       1002.00  1301250010     42.32     -71.07  \n",
       "4        25.00      60800.00       1002.00   700950000     42.34     -71.05  "
      ]
     },
     "execution_count": 17,
     "metadata": {},
     "output_type": "execute_result"
    }
   ],
   "source": [
    "pa202_geo_df.head()"
   ]
  },
  {
   "cell_type": "markdown",
   "metadata": {
    "id": "UrOtb8C79v-h"
   },
   "source": [
    "# Export Final GeoCoded File"
   ]
  },
  {
   "cell_type": "code",
   "execution_count": null,
   "metadata": {
    "id": "xsWVUD4N9l9s"
   },
   "outputs": [],
   "source": [
    "pa202_geo_df.to_csv('pa_2022_geocoded.csv', header=True, index=False)"
   ]
  },
  {
   "cell_type": "markdown",
   "metadata": {
    "id": "qIi-XPOIZr1T"
   },
   "source": [
    "# Test Calculating Distance"
   ]
  },
  {
   "cell_type": "code",
   "execution_count": 55,
   "metadata": {
    "colab": {
     "base_uri": "https://localhost:8080/",
     "height": 586
    },
    "executionInfo": {
     "elapsed": 9015,
     "status": "ok",
     "timestamp": 1666273053852,
     "user": {
      "displayName": "Jeff Teixeira",
      "userId": "16242091717847900949"
     },
     "user_tz": 240
    },
    "id": "jbOnlQROZrNi",
    "outputId": "dd851dc1-b6b2-4c88-89f5-5310f7a1a799"
   },
   "outputs": [
    {
     "data": {
      "text/html": [
       "\n",
       "  <div id=\"df-74845e28-1503-44bf-87fe-025e0eab6ef4\">\n",
       "    <div class=\"colab-df-container\">\n",
       "      <div>\n",
       "<style scoped>\n",
       "    .dataframe tbody tr th:only-of-type {\n",
       "        vertical-align: middle;\n",
       "    }\n",
       "\n",
       "    .dataframe tbody tr th {\n",
       "        vertical-align: top;\n",
       "    }\n",
       "\n",
       "    .dataframe thead th {\n",
       "        text-align: right;\n",
       "    }\n",
       "</style>\n",
       "<table border=\"1\" class=\"dataframe\">\n",
       "  <thead>\n",
       "    <tr style=\"text-align: right;\">\n",
       "      <th></th>\n",
       "      <th>PID</th>\n",
       "      <th>LATITUDE</th>\n",
       "      <th>LONGITUDE</th>\n",
       "    </tr>\n",
       "  </thead>\n",
       "  <tbody>\n",
       "    <tr>\n",
       "      <th>0</th>\n",
       "      <td>802870050</td>\n",
       "      <td>42.32</td>\n",
       "      <td>-71.08</td>\n",
       "    </tr>\n",
       "    <tr>\n",
       "      <th>1</th>\n",
       "      <td>1101083000</td>\n",
       "      <td>NaN</td>\n",
       "      <td>NaN</td>\n",
       "    </tr>\n",
       "    <tr>\n",
       "      <th>2</th>\n",
       "      <td>1102053000</td>\n",
       "      <td>42.31</td>\n",
       "      <td>-71.10</td>\n",
       "    </tr>\n",
       "    <tr>\n",
       "      <th>3</th>\n",
       "      <td>1301250010</td>\n",
       "      <td>42.32</td>\n",
       "      <td>-71.07</td>\n",
       "    </tr>\n",
       "    <tr>\n",
       "      <th>4</th>\n",
       "      <td>700950000</td>\n",
       "      <td>42.34</td>\n",
       "      <td>-71.05</td>\n",
       "    </tr>\n",
       "  </tbody>\n",
       "</table>\n",
       "</div>\n",
       "      <button class=\"colab-df-convert\" onclick=\"convertToInteractive('df-74845e28-1503-44bf-87fe-025e0eab6ef4')\"\n",
       "              title=\"Convert this dataframe to an interactive table.\"\n",
       "              style=\"display:none;\">\n",
       "        \n",
       "  <svg xmlns=\"http://www.w3.org/2000/svg\" height=\"24px\"viewBox=\"0 0 24 24\"\n",
       "       width=\"24px\">\n",
       "    <path d=\"M0 0h24v24H0V0z\" fill=\"none\"/>\n",
       "    <path d=\"M18.56 5.44l.94 2.06.94-2.06 2.06-.94-2.06-.94-.94-2.06-.94 2.06-2.06.94zm-11 1L8.5 8.5l.94-2.06 2.06-.94-2.06-.94L8.5 2.5l-.94 2.06-2.06.94zm10 10l.94 2.06.94-2.06 2.06-.94-2.06-.94-.94-2.06-.94 2.06-2.06.94z\"/><path d=\"M17.41 7.96l-1.37-1.37c-.4-.4-.92-.59-1.43-.59-.52 0-1.04.2-1.43.59L10.3 9.45l-7.72 7.72c-.78.78-.78 2.05 0 2.83L4 21.41c.39.39.9.59 1.41.59.51 0 1.02-.2 1.41-.59l7.78-7.78 2.81-2.81c.8-.78.8-2.07 0-2.86zM5.41 20L4 18.59l7.72-7.72 1.47 1.35L5.41 20z\"/>\n",
       "  </svg>\n",
       "      </button>\n",
       "      \n",
       "  <style>\n",
       "    .colab-df-container {\n",
       "      display:flex;\n",
       "      flex-wrap:wrap;\n",
       "      gap: 12px;\n",
       "    }\n",
       "\n",
       "    .colab-df-convert {\n",
       "      background-color: #E8F0FE;\n",
       "      border: none;\n",
       "      border-radius: 50%;\n",
       "      cursor: pointer;\n",
       "      display: none;\n",
       "      fill: #1967D2;\n",
       "      height: 32px;\n",
       "      padding: 0 0 0 0;\n",
       "      width: 32px;\n",
       "    }\n",
       "\n",
       "    .colab-df-convert:hover {\n",
       "      background-color: #E2EBFA;\n",
       "      box-shadow: 0px 1px 2px rgba(60, 64, 67, 0.3), 0px 1px 3px 1px rgba(60, 64, 67, 0.15);\n",
       "      fill: #174EA6;\n",
       "    }\n",
       "\n",
       "    [theme=dark] .colab-df-convert {\n",
       "      background-color: #3B4455;\n",
       "      fill: #D2E3FC;\n",
       "    }\n",
       "\n",
       "    [theme=dark] .colab-df-convert:hover {\n",
       "      background-color: #434B5C;\n",
       "      box-shadow: 0px 1px 3px 1px rgba(0, 0, 0, 0.15);\n",
       "      filter: drop-shadow(0px 1px 2px rgba(0, 0, 0, 0.3));\n",
       "      fill: #FFFFFF;\n",
       "    }\n",
       "  </style>\n",
       "\n",
       "      <script>\n",
       "        const buttonEl =\n",
       "          document.querySelector('#df-74845e28-1503-44bf-87fe-025e0eab6ef4 button.colab-df-convert');\n",
       "        buttonEl.style.display =\n",
       "          google.colab.kernel.accessAllowed ? 'block' : 'none';\n",
       "\n",
       "        async function convertToInteractive(key) {\n",
       "          const element = document.querySelector('#df-74845e28-1503-44bf-87fe-025e0eab6ef4');\n",
       "          const dataTable =\n",
       "            await google.colab.kernel.invokeFunction('convertToInteractive',\n",
       "                                                     [key], {});\n",
       "          if (!dataTable) return;\n",
       "\n",
       "          const docLinkHtml = 'Like what you see? Visit the ' +\n",
       "            '<a target=\"_blank\" href=https://colab.research.google.com/notebooks/data_table.ipynb>data table notebook</a>'\n",
       "            + ' to learn more about interactive tables.';\n",
       "          element.innerHTML = '';\n",
       "          dataTable['output_type'] = 'display_data';\n",
       "          await google.colab.output.renderOutput(dataTable, element);\n",
       "          const docLink = document.createElement('div');\n",
       "          docLink.innerHTML = docLinkHtml;\n",
       "          element.appendChild(docLink);\n",
       "        }\n",
       "      </script>\n",
       "    </div>\n",
       "  </div>\n",
       "  "
      ],
      "text/plain": [
       "          PID  LATITUDE  LONGITUDE\n",
       "0   802870050     42.32     -71.08\n",
       "1  1101083000       NaN        NaN\n",
       "2  1102053000     42.31     -71.10\n",
       "3  1301250010     42.32     -71.07\n",
       "4   700950000     42.34     -71.05"
      ]
     },
     "execution_count": 55,
     "metadata": {},
     "output_type": "execute_result"
    },
    {
     "data": {
      "text/html": [
       "\n",
       "  <div id=\"df-feb43989-ee38-4f39-bb92-f1b3f3c148b7\">\n",
       "    <div class=\"colab-df-container\">\n",
       "      <div>\n",
       "<style scoped>\n",
       "    .dataframe tbody tr th:only-of-type {\n",
       "        vertical-align: middle;\n",
       "    }\n",
       "\n",
       "    .dataframe tbody tr th {\n",
       "        vertical-align: top;\n",
       "    }\n",
       "\n",
       "    .dataframe thead th {\n",
       "        text-align: right;\n",
       "    }\n",
       "</style>\n",
       "<table border=\"1\" class=\"dataframe\">\n",
       "  <thead>\n",
       "    <tr style=\"text-align: right;\">\n",
       "      <th></th>\n",
       "      <th>PID</th>\n",
       "      <th>LATITUDE</th>\n",
       "      <th>LONGITUDE</th>\n",
       "      <th>DISTANCE</th>\n",
       "    </tr>\n",
       "  </thead>\n",
       "  <tbody>\n",
       "    <tr>\n",
       "      <th>0</th>\n",
       "      <td>802870050</td>\n",
       "      <td>42.32</td>\n",
       "      <td>-71.08</td>\n",
       "      <td>2.74</td>\n",
       "    </tr>\n",
       "    <tr>\n",
       "      <th>1</th>\n",
       "      <td>1101083000</td>\n",
       "      <td>NaN</td>\n",
       "      <td>NaN</td>\n",
       "      <td>NaN</td>\n",
       "    </tr>\n",
       "    <tr>\n",
       "      <th>2</th>\n",
       "      <td>1102053000</td>\n",
       "      <td>42.31</td>\n",
       "      <td>-71.10</td>\n",
       "      <td>4.03</td>\n",
       "    </tr>\n",
       "    <tr>\n",
       "      <th>3</th>\n",
       "      <td>1301250010</td>\n",
       "      <td>42.32</td>\n",
       "      <td>-71.07</td>\n",
       "      <td>3.15</td>\n",
       "    </tr>\n",
       "    <tr>\n",
       "      <th>4</th>\n",
       "      <td>700950000</td>\n",
       "      <td>42.34</td>\n",
       "      <td>-71.05</td>\n",
       "      <td>1.82</td>\n",
       "    </tr>\n",
       "  </tbody>\n",
       "</table>\n",
       "</div>\n",
       "      <button class=\"colab-df-convert\" onclick=\"convertToInteractive('df-feb43989-ee38-4f39-bb92-f1b3f3c148b7')\"\n",
       "              title=\"Convert this dataframe to an interactive table.\"\n",
       "              style=\"display:none;\">\n",
       "        \n",
       "  <svg xmlns=\"http://www.w3.org/2000/svg\" height=\"24px\"viewBox=\"0 0 24 24\"\n",
       "       width=\"24px\">\n",
       "    <path d=\"M0 0h24v24H0V0z\" fill=\"none\"/>\n",
       "    <path d=\"M18.56 5.44l.94 2.06.94-2.06 2.06-.94-2.06-.94-.94-2.06-.94 2.06-2.06.94zm-11 1L8.5 8.5l.94-2.06 2.06-.94-2.06-.94L8.5 2.5l-.94 2.06-2.06.94zm10 10l.94 2.06.94-2.06 2.06-.94-2.06-.94-.94-2.06-.94 2.06-2.06.94z\"/><path d=\"M17.41 7.96l-1.37-1.37c-.4-.4-.92-.59-1.43-.59-.52 0-1.04.2-1.43.59L10.3 9.45l-7.72 7.72c-.78.78-.78 2.05 0 2.83L4 21.41c.39.39.9.59 1.41.59.51 0 1.02-.2 1.41-.59l7.78-7.78 2.81-2.81c.8-.78.8-2.07 0-2.86zM5.41 20L4 18.59l7.72-7.72 1.47 1.35L5.41 20z\"/>\n",
       "  </svg>\n",
       "      </button>\n",
       "      \n",
       "  <style>\n",
       "    .colab-df-container {\n",
       "      display:flex;\n",
       "      flex-wrap:wrap;\n",
       "      gap: 12px;\n",
       "    }\n",
       "\n",
       "    .colab-df-convert {\n",
       "      background-color: #E8F0FE;\n",
       "      border: none;\n",
       "      border-radius: 50%;\n",
       "      cursor: pointer;\n",
       "      display: none;\n",
       "      fill: #1967D2;\n",
       "      height: 32px;\n",
       "      padding: 0 0 0 0;\n",
       "      width: 32px;\n",
       "    }\n",
       "\n",
       "    .colab-df-convert:hover {\n",
       "      background-color: #E2EBFA;\n",
       "      box-shadow: 0px 1px 2px rgba(60, 64, 67, 0.3), 0px 1px 3px 1px rgba(60, 64, 67, 0.15);\n",
       "      fill: #174EA6;\n",
       "    }\n",
       "\n",
       "    [theme=dark] .colab-df-convert {\n",
       "      background-color: #3B4455;\n",
       "      fill: #D2E3FC;\n",
       "    }\n",
       "\n",
       "    [theme=dark] .colab-df-convert:hover {\n",
       "      background-color: #434B5C;\n",
       "      box-shadow: 0px 1px 3px 1px rgba(0, 0, 0, 0.15);\n",
       "      filter: drop-shadow(0px 1px 2px rgba(0, 0, 0, 0.3));\n",
       "      fill: #FFFFFF;\n",
       "    }\n",
       "  </style>\n",
       "\n",
       "      <script>\n",
       "        const buttonEl =\n",
       "          document.querySelector('#df-feb43989-ee38-4f39-bb92-f1b3f3c148b7 button.colab-df-convert');\n",
       "        buttonEl.style.display =\n",
       "          google.colab.kernel.accessAllowed ? 'block' : 'none';\n",
       "\n",
       "        async function convertToInteractive(key) {\n",
       "          const element = document.querySelector('#df-feb43989-ee38-4f39-bb92-f1b3f3c148b7');\n",
       "          const dataTable =\n",
       "            await google.colab.kernel.invokeFunction('convertToInteractive',\n",
       "                                                     [key], {});\n",
       "          if (!dataTable) return;\n",
       "\n",
       "          const docLinkHtml = 'Like what you see? Visit the ' +\n",
       "            '<a target=\"_blank\" href=https://colab.research.google.com/notebooks/data_table.ipynb>data table notebook</a>'\n",
       "            + ' to learn more about interactive tables.';\n",
       "          element.innerHTML = '';\n",
       "          dataTable['output_type'] = 'display_data';\n",
       "          await google.colab.output.renderOutput(dataTable, element);\n",
       "          const docLink = document.createElement('div');\n",
       "          docLink.innerHTML = docLinkHtml;\n",
       "          element.appendChild(docLink);\n",
       "        }\n",
       "      </script>\n",
       "    </div>\n",
       "  </div>\n",
       "  "
      ],
      "text/plain": [
       "          PID  LATITUDE  LONGITUDE  DISTANCE\n",
       "0   802870050     42.32     -71.08      2.74\n",
       "1  1101083000       NaN        NaN       NaN\n",
       "2  1102053000     42.31     -71.10      4.03\n",
       "3  1301250010     42.32     -71.07      3.15\n",
       "4   700950000     42.34     -71.05      1.82"
      ]
     },
     "execution_count": 55,
     "metadata": {},
     "output_type": "execute_result"
    },
    {
     "name": "stdout",
     "output_type": "stream",
     "text": [
      "<class 'pandas.core.frame.DataFrame'>\n",
      "RangeIndex: 25640 entries, 0 to 25639\n",
      "Data columns (total 4 columns):\n",
      " #   Column     Non-Null Count  Dtype  \n",
      "---  ------     --------------  -----  \n",
      " 0   PID        25640 non-null  int64  \n",
      " 1   LATITUDE   25217 non-null  float64\n",
      " 2   LONGITUDE  25217 non-null  float64\n",
      " 3   DISTANCE   25217 non-null  float64\n",
      "dtypes: float64(3), int64(1)\n",
      "memory usage: 801.4 KB\n"
     ]
    }
   ],
   "source": [
    "import geopy.distance\n",
    "from numpy import NaN\n",
    "import numpy as np\n",
    "\n",
    "# Read in Geocoded Data with Lat/Long by PID\n",
    "mydata = pd.read_csv('pa_2022_geocoded.csv')\n",
    "\n",
    "# Set a Tuple of Lat/Long for the center of Boston\n",
    "boston = (42.361145, -71.057083)\n",
    "\n",
    "# Keep only the PID, Lat and Long\n",
    "mydata2 = mydata.copy()\n",
    "mydata2 = mydata2[['PID','LATITUDE','LONGITUDE']]\n",
    "mydata2.head()\n",
    "\n",
    "# Determine number of rows\n",
    "nrecs = mydata2.shape[0]\n",
    "\n",
    "# Initialize an empty list of distances\n",
    "distances = []\n",
    "\n",
    "for i in range(nrecs):\n",
    "    id   = mydata2.iloc[i,0]\n",
    "    lat  = mydata2.iloc[i,1]\n",
    "    long = mydata2.iloc[i,2]\n",
    "    coords = (lat, long)\n",
    "    if lat>0 :\n",
    "      dist = geopy.distance.geodesic(coords, boston).miles\n",
    "    else:\n",
    "      dist = NaN\n",
    "    \n",
    "    distances.append(dist)\n",
    "    #print( i, id, lat, long, coords, dist)\n",
    "\n",
    "# Append Distances to DataFrame\n",
    "mydata3 = mydata2.copy() \n",
    "mydata3[\"DISTANCE\"] =  distances\n",
    "mydata3.head()\n",
    "mydata3.info()"
   ]
  }
 ],
 "metadata": {
  "colab": {
   "authorship_tag": "ABX9TyMl+VZw0xIOs5zVAa9BR/Q3",
   "collapsed_sections": [],
   "provenance": []
  },
  "kernelspec": {
   "display_name": "Python 3 (ipykernel)",
   "language": "python",
   "name": "python3"
  },
  "language_info": {
   "codemirror_mode": {
    "name": "ipython",
    "version": 3
   },
   "file_extension": ".py",
   "mimetype": "text/x-python",
   "name": "python",
   "nbconvert_exporter": "python",
   "pygments_lexer": "ipython3",
   "version": "3.9.12"
  }
 },
 "nbformat": 4,
 "nbformat_minor": 1
}
